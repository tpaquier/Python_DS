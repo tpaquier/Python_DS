{
 "cells": [
  {
   "cell_type": "markdown",
   "id": "01947769-bff4-455f-ba01-c9268056f07b",
   "metadata": {},
   "source": [
    "# Import des packages"
   ]
  },
  {
   "cell_type": "code",
   "execution_count": null,
   "id": "69368fd7-e6fa-4508-b133-c7d0cb2e68c1",
   "metadata": {
    "scrolled": true
   },
   "outputs": [],
   "source": [
    "import numpy as np\n",
    "import pandas as pd\n",
    "import matplotlib.pyplot as plt\n",
    "import requests\n",
    "!pip install --upgrade xlrd #colab bug verson xlrd\n",
    "!pip install geopandas\n",
    "!pip install pandas fiona shapely pyproj rtree\n",
    "!pip install contextily\n",
    "!pip install pygeos\n",
    "!pip install topojson\n",
    "import geopandas as gpd\n",
    "import contextily as ctx\n",
    "import matplotlib.pyplot as plt\n",
    "from sklearn.preprocessing import StandardScaler\n",
    "import seaborn as sns"
   ]
  },
  {
   "cell_type": "markdown",
   "id": "9c9ad5ad-4e74-49a4-a4a4-f6caf844a76f",
   "metadata": {},
   "source": [
    "# Import des différentes bases de données\n",
    "## 1ère base : base Ameli, contient les données des pathologies en France\n",
    "Les données sont celles de l'Assurance Maladie du 31/12/2015 au 31/12/2021. On retrouve des variables classiques de structure de la population (à noter que cla_age_5 correspond à la classe d’âge par tranche de 5 ans) et les variables suivantes :\n",
    "* patho_niv1: groupe de pathologies \n",
    "* patho_niv2: sous-groupe de pathologies\n",
    "* patho_niv3: sous-groupe détaillé de pathologies\n",
    "* top: libellé technique de la pathologie\n",
    "* Ntop: effectif de patients pris en charge pour la pathologie dont il est question\n",
    "* Npop: population de référence\n",
    "* prev: prévalence de patients, ou proportion de patients, pris en charge pour la pathologie dont il est question.\n",
    "* Niveau prioritaire : niveau de gravité de la maladie, noté de 1 (faible) à 3(fort).\n",
    "\n",
    "<b> Première tentative d'import de la base. \n",
    "Il s'est avéré que c'était trop long quand bien même on augmente considérablement les ressources disponibles, c'est pourquoi nous sommes parvenus à cette solution qui n'est certes pas la meilleure mais qui permet au moins de faire tourner la base. Il faut la télécharger au préalable et la coller en local. </b>\n",
    "\n",
    "test_1 = pd.read_csv(\"https://www.data.gouv.fr/fr/datasets/r/5f71ba43-afc8-43a0-b306-dafe29940f9c\", sep = \";\", encoding = 'utf-8', engine = 'python')\n",
    "le lien du dossier data.gouv : \n",
    "https://www.data.gouv.fr/fr/datasets/effectif-de-patients-par-pathologie-sexe-classe-dage-et-territoire-departement-region/\n",
    "methode \"classique\" pour obtenir un dataset a partir d un lien \n",
    "probleme d encodage d ou les parametres sep, encoding, engine\n"
   ]
  },
  {
   "cell_type": "code",
   "execution_count": null,
   "id": "50fe8668-a36a-4dda-998e-c2969d635371",
   "metadata": {},
   "outputs": [],
   "source": [
    "test_2 = pd.read_csv(\"effectifs.csv\", sep = \";\", encoding = 'utf-8', engine = 'python')\n",
    "\n",
    "data_gen = test_2.dropna()"
   ]
  },
  {
   "cell_type": "markdown",
   "id": "a5a27fa9-c55c-4056-94d3-8f1f4df64e82",
   "metadata": {},
   "source": [
    "On choisit de 'simplement' supprimer les valeurs manquantes car, avec quatre millions d'observations il était parfois difficile de faire tourner certaines opérations. Par ailleurs, une fois qu'on supprime tous les NA, on garde tout de même deux millions d'observations ce qui reste très important. "
   ]
  },
  {
   "cell_type": "markdown",
   "id": "879a64e1-3d4b-444a-9841-c54e334440e7",
   "metadata": {},
   "source": [
    "## 2ème base : la base détaillant les origines de la pollution\n",
    "Les données de la table base_pollution.csv datent de 2016. Les variables de la  table sont celles utilisées pour calculer le potentiel ou pouvoir de réchauffement global (PRG). C'est un indicateur qui vise à regrouper sous une seule valeur l'effet additionné de toutes les substances contribuant à l'accroissement de l'effet de serre. Les variables recouvrent les principales activités humaines à l'origine de la pollution atmosphérique.\n",
    "\n",
    "Nous présummons que l'unité des données de la base est la tonne de CO2.\n",
    "\n",
    "Nous croisons cette base avec notre base principale car la qualité de l'air a des conséquences non négligeables sur la santé des agents. En effet, la pollution de l’air provoque à elle seule près de 6,5 millions de décès chaque année, soit un décès sur huit, ce qui la positionne parmi les principaux risques pour la santé dans le monde (source : https://www.atmo-france.org)."
   ]
  },
  {
   "cell_type": "code",
   "execution_count": null,
   "id": "8b739a17-f6e8-4aef-9559-084ee7ced785",
   "metadata": {},
   "outputs": [],
   "source": [
    "data_pollution = pd.read_csv(\"https://koumoul.com/data-fair/api/v1/datasets/igt-pouvoir-de-rechauffement-global/convert\", encoding = 'utf-8')\n",
    "\n",
    "#Dictionnaire associant les numéros de département à ceux des régions\n",
    "\n",
    "correspondance_reg = {\n",
    "    84: ['01', '03', '07', '15', '26', '38', '42', '43', '63', '69', '73', '74'],  # Auvergne-Rhône-Alpes\n",
    "    27: ['21', '25', '39', '58', '70', '71', '89', '90'],  # Bourgogne-Franche-Comté\n",
    "    53: ['22', '29', '35', '56'],  # Bretagne\n",
    "    28: ['18', '28', '36', '37', '41', '45'],  # Centre-Val de Loire\n",
    "    94: ['2A', '2B'],  # Corse\n",
    "    44: ['08', '10', '51', '52', '54', '55', '57', '67', '68', '88'],  # Grand Est\n",
    "    32: ['02', '59', '60', '62', '80'],  # Hauts-de-France\n",
    "    11: ['75', '77', '78', '91', '92', '93', '94', '95'],  # Île-de-France\n",
    "    76: ['14', '27', '50', '61', '76'],  # Normandie\n",
    "    75: ['16', '17', '19', '23', '24', '33', '40', '47', '64', '79', '86', '87'],  # Nouvelle-Aquitaine\n",
    "    24: ['09', '11', '12', '30', '31', '32', '34', '46', '48', '65', '66', '81', '82'],  # Occitanie\n",
    "    52: ['44', '49', '53', '72', '85'],  # Pays de la Loire\n",
    "    93: ['04', '05', '06', '13', '83', '84']  # Provence-Alpes-Côte d'Azur\n",
    "}\n",
    "\n",
    "correspondance_reg = {dep: region for region, deps in correspondance_reg.items() for dep in deps}\n",
    "\n",
    "#Création de la variable département à partir du code commune de l'INSEE\n",
    "data_pollution['DEP'] = data_pollution['INSEE commune'].str[:2]\n",
    "\n",
    "#Chose à laquelle il faut faire attention : \n",
    "#DEP est de type serie car il ne contient pas que de variables numériques (2A et 2B)\n",
    "\n",
    "#Création de la variable région à partir de celle du département\n",
    "size = len(data_pollution['DEP'])\n",
    "data_pollution['REG'] = pd.Series([0]*size)\n",
    "\n",
    "for i in range(size) :\n",
    "    data_pollution.loc[i, 'REG'] = correspondance_reg.get(data_pollution['DEP'][i],\"inconnu\")\n",
    "\n",
    "REG_DEP_na = data_pollution[(data_pollution['DEP'].isna()) | (data_pollution['REG'].isna())]\n",
    "REG_DEP_na.shape\n",
    "#L'avantage par rapport au code précédent est qu'il n'y a plus de données perdues \n",
    "#ce qui n'était pas le cas avec le merge avec base_geo_pour_merge \n",
    "\n",
    "#Somme des niveaux de pollution par département\n",
    "pollution_group_dep = data_pollution.drop(['Commune','INSEE commune', 'REG'], axis = 1).groupby('DEP', as_index=False).sum()\n",
    "pollution_group_dep\n",
    "\n",
    "#Somme des niveaux de pollution par région\n",
    "pollution_group_reg = data_pollution.drop(['Commune','INSEE commune', 'DEP'], axis = 1).groupby('REG', as_index = False).sum()\n",
    "\n",
    "\n",
    "#Dictionnaire de correspondance des numéro de région avec leur nom\n",
    "#Utile pour l'affiche des graphiques\n",
    "nom_reg = {\n",
    "    84: 'Auvergne-Rhône-Alpes',\n",
    "    27: 'Bourgogne-Franche-Comté',\n",
    "    53: 'Bretagne',\n",
    "    28: 'Centre-Val de Loire',\n",
    "    94: 'Corse',\n",
    "    44: 'Grand Est',\n",
    "    32: 'Hauts-de-France',\n",
    "    11: 'Île-de-France',\n",
    "    76: 'Normandie',\n",
    "    75: 'Nouvelle-Aquitaine',\n",
    "    24: 'Occitanie',\n",
    "    52: 'Pays de la Loire',\n",
    "    93: \"Provence-Alpes-Côte d'Azur\"\n",
    "}\n",
    "\n",
    "# Conversion de la colonne 'REG' en type int\n",
    "pollution_group_reg['REG'] = pollution_group_reg['REG'].astype(int)\n",
    "\n",
    "# Création de la variable 'Nom de la région' à partir de celle de la région\n",
    "pollution_group_reg['Nom de la région'] = pollution_group_reg['REG'].map(nom_reg).fillna(\"inconnu\")\n",
    "\n",
    "# Réaranger l'ordre des colonnes\n",
    "colonnes_ordre = ['REG', 'Nom de la région'] + [colonne for colonne in pollution_group_reg.columns if colonne not in ['REG', 'Nom de la région']]\n",
    "pollution_group_reg = pollution_group_reg[colonnes_ordre]\n",
    "\n",
    "set_dep_littoral = (59, 62, 80, 76, 27, 14, 50, 35, \n",
    "                      22, 29, 56, 44, 85, 17, 33, 40, \n",
    "                    64, 66, 11, 34,\n",
    "                    30, 13, 83, 0o6, '2A', '2B')\n",
    "# Importation des bases en local pour faire tourner le code main\n",
    "data_pollution.to_csv('base_pollution.csv', sep=',', index=False, encoding='utf-8')\n",
    "pollution_group_reg.to_csv('pollution_group_reg.csv', sep=',', index=False, encoding='utf-8')\n",
    "pollution_group_dep.to_csv('pollution_group_dep.csv', sep=',', index=False, encoding='utf-8')"
   ]
  },
  {
   "cell_type": "markdown",
   "id": "c475688e-ea88-474e-b444-824495d41fe1",
   "metadata": {},
   "source": [
    "## 3ème base : base regroupant la population par département\n",
    "Utilisée plus tard pour permettre de pondérer et de faire des groupes de départements les plus homogènes possibles.\n",
    "Zozo je te laisse faire aussi pour celle-là."
   ]
  },
  {
   "cell_type": "code",
   "execution_count": null,
   "id": "dc06ba30-59c8-42c5-9787-bae36d583abc",
   "metadata": {},
   "outputs": [],
   "source": [
    "url = 'https://www.insee.fr/fr/statistiques/fichier/1893198/estim-pop-dep-sexe-gca-1975-2023.xls'\n",
    "\n",
    "noms_colonnes=['numero_dep','dep','total_habitants']\n",
    "pop_test = pd.read_excel(url, sheet_name='2023',skiprows=3,header=1, usecols = [0,1,7], skipfooter=4, names=noms_colonnes)\n",
    "\n",
    "\n",
    "#pop_test2 = pop_test.set_index(['Num_dep ', 'Nom_dep'])\n",
    "#pop_test2\n",
    "\n",
    "#pop_test3 = pop_test.drop(df.index[:3])\n",
    "#print(pop_test3)\n",
    "\n",
    "pop_test.to_csv('base_pop_dep.csv')"
   ]
  },
  {
   "cell_type": "code",
   "execution_count": null,
   "id": "7e487d8d-3371-479b-8f0c-0f9ad825b565",
   "metadata": {},
   "outputs": [],
   "source": [
    "groupe_dep = pd.read_csv(\"pollution_group_dep.csv\", encoding = 'utf-8')"
   ]
  },
  {
   "cell_type": "code",
   "execution_count": null,
   "id": "6fd81634",
   "metadata": {},
   "outputs": [],
   "source": [
    "print(\"nombre de categories differentes pour niv2 est :\"+str(len(test_2['patho_niv2'].unique())))\n",
    "print(\"nombre de categories differentes pour niv3 est :\"+str(len(test_2['patho_niv3'].unique())))"
   ]
  },
  {
   "cell_type": "code",
   "execution_count": null,
   "id": "8bdc0b54",
   "metadata": {
    "scrolled": true
   },
   "outputs": [],
   "source": [
    "liste_diff_patho1 = data_gen['patho_niv1'].unique()\n",
    "liste_diff_patho2 = data_gen['patho_niv2'].unique()\n",
    "liste_diff_patho3 = data_gen['patho_niv3'].unique()\n",
    "\n",
    "print(liste_diff_patho1, \"\\n\", liste_diff_patho2, \"\\n\", liste_diff_patho3)"
   ]
  },
  {
   "cell_type": "markdown",
   "id": "451ad322-dd3f-4e94-bf0e-4f575a7580a3",
   "metadata": {},
   "source": [
    "# Preprocessing\n",
    "## Création de variables et dataframes plus clairs pour manipulation et visualisation"
   ]
  },
  {
   "cell_type": "code",
   "execution_count": null,
   "id": "d7a51406-8222-4f0a-a36e-7a29170cdc34",
   "metadata": {},
   "outputs": [],
   "source": [
    "#Creation d une colonne individus\n",
    "data_gen.reset_index(inplace = True, names='ind') \n",
    "\n",
    "#creation d une colonne classe d age numerique pour que ce soit plus pratique\n",
    "\n",
    "data_gen[\"classe_age\"] = data_gen[\"cla_age_5\"].apply(\n",
    "    lambda x: np.mean(list(map(lambda y : int(y), x.split(\"-\")))) if \"-\" in x else (np.nan if x == 'tsage' else 100)\n",
    ")"
   ]
  },
  {
   "cell_type": "code",
   "execution_count": null,
   "id": "b6dd1912",
   "metadata": {},
   "outputs": [],
   "source": [
    "#on cree un nouveau dataframe pour pouvoir faire des manipulations plus rapides sur le data_gen"
   ]
  },
  {
   "cell_type": "code",
   "execution_count": null,
   "id": "b1d9e08d",
   "metadata": {},
   "outputs": [],
   "source": [
    "df_model = data_gen[['ind','classe_age' , 'region', 'dept']]"
   ]
  },
  {
   "cell_type": "code",
   "execution_count": null,
   "id": "8b1b0033",
   "metadata": {},
   "outputs": [],
   "source": [
    "#l'autre base pour la pollution ne prend pas les départements d'outre-mer en compte\n",
    "#il est donc probable que l'on soit contraints de les exclure de l'analyse \n"
   ]
  },
  {
   "cell_type": "code",
   "execution_count": null,
   "id": "3883d2d8",
   "metadata": {},
   "outputs": [],
   "source": [
    "df_model_test = pd.merge(df_model, groupe_dep, how = 'left', left_on='dept', right_on='DEP')"
   ]
  },
  {
   "cell_type": "code",
   "execution_count": null,
   "id": "6f075bc9",
   "metadata": {},
   "outputs": [],
   "source": [
    "df_model_reduced = data_gen[['ind','classe_age' , 'region', 'dept']]"
   ]
  },
  {
   "cell_type": "code",
   "execution_count": null,
   "id": "d1fd2f61-ead5-40fc-8bef-b0a4217ad5a3",
   "metadata": {},
   "outputs": [],
   "source": [
    "pd.get_dummies(data_gen, prefix = 'indicatrice_', columns=['patho_niv1'], dtype='int').dropna().to_csv('data_dummies.csv')"
   ]
  },
  {
   "cell_type": "code",
   "execution_count": null,
   "id": "4885c9a6-7d73-4507-9eb4-56495308ee41",
   "metadata": {},
   "outputs": [],
   "source": [
    "df_modelisation = pd.get_dummies(data_gen, prefix = 'indicatrice', columns=['patho_niv1'], dtype='int')\n",
    "age_30_60 = [32, 37, 42, 47, 52, 57, 62] #utilise pour faire des etudes par classe d age plus ou moins precises\n",
    "df_modelisation_30_60 = df_modelisation[df_modelisation['classe_age'].isin(age_30_60)]\n",
    "df_modelisation_30_60 = df_modelisation_30_60[['classe_age'] + list(df_modelisation_30_60.columns.difference(['classe_age']))]"
   ]
  },
  {
   "cell_type": "code",
   "execution_count": null,
   "id": "20df9bed-ea8d-4463-96bf-ba64a7b5536a",
   "metadata": {
    "scrolled": true
   },
   "outputs": [],
   "source": [
    "df_modelisation = df_modelisation.drop(['ind','patho_niv2', 'patho_niv3', 'top', 'cla_age_5', 'sexe', 'region', 'ntop', 'npop', 'prev', 'niveau_prioritaire', 'libelle_classe_age', \n",
    "                      'libelle_sexe', 'tri', 'annee'], axis = 1)\n",
    "\n",
    "df_modelisation_30_60 = df_modelisation_30_60.drop(['ind','patho_niv2', 'patho_niv3', 'top', 'cla_age_5', 'sexe', 'region', 'ntop', 'npop', 'prev', 'niveau_prioritaire', 'libelle_classe_age', \n",
    "                      'libelle_sexe', 'tri', 'annee'], axis = 1)"
   ]
  },
  {
   "cell_type": "code",
   "execution_count": null,
   "id": "5b140340-b36f-4e46-9a39-a67215f46390",
   "metadata": {},
   "outputs": [],
   "source": [
    "#creation d un dictionnaire pour pouvoir avoir des classe d age qui sont des moyennes et pas la somme de\n",
    "#tous les individus d'une même classe d age\n",
    "#peut etre que ce n est pas la facon la plus synthetique de faire mais elle fonctionne\n",
    "dico = {'classe_age' : 'mean',\n",
    "       'indicatrice_Autres affections de longue durée (dont 31 et 32)' : 'sum',\n",
    "       'indicatrice_Cancers' : 'sum', 'indicatrice_Diabète' : 'sum',\n",
    "       'indicatrice_Hospitalisations ponctuelles (avec ou sans pathologies, traitements ou maternité)' : 'sum',\n",
    "       'indicatrice_Insuffisance rénale chronique terminale' : 'sum',\n",
    "       'indicatrice_Maladies cardio-neurovasculaires' : 'sum',\n",
    "       'indicatrice_Maladies du foie ou du pancréas (hors mucoviscidose)' : 'sum',\n",
    "       'indicatrice_Maladies inflammatoires ou rares ou VIH ou SIDA' : 'sum',\n",
    "       'indicatrice_Maladies neurologiques ou dégénératives' : 'sum',\n",
    "       'indicatrice_Maladies psychiatriques' : 'sum',\n",
    "       'indicatrice_Maladies respiratoires chroniques (hors mucoviscidose)' : 'sum',\n",
    "       'indicatrice_Maternité (avec ou sans pathologies)' : 'sum',\n",
    "       'indicatrice_Séjours en hospitalisation complète pour prise en charge de la Covid-19' : 'sum',\n",
    "       'indicatrice_Traitements du risque vasculaire (hors pathologies)' : 'sum',\n",
    "       'indicatrice_Traitements psychotropes (hors pathologies)' : 'sum'}\n"
   ]
  },
  {
   "cell_type": "code",
   "execution_count": null,
   "id": "120d0b33-b3e7-40a5-ad24-f45354327b86",
   "metadata": {},
   "outputs": [],
   "source": [
    "df_modelisation = df_modelisation.groupby('dept').agg(dico).reset_index()\n",
    "df_modelisation.to_csv('base_groupe_dep_moy_age.csv')\n",
    "df_modelisation_30_60 = df_modelisation_30_60.groupby('dept').agg(dico).reset_index()\n"
   ]
  },
  {
   "cell_type": "markdown",
   "id": "50657585-12da-44c5-bf02-974c9c7a231b",
   "metadata": {},
   "source": [
    "## On a décidé de laisse de côté ces deux variables parce que ce sont les deux motifs d'hospitalisation les plus fréquents, et donc il n'y aurait eu que ces deux-là à analyser si on voulait voir les plus étudiés. \n",
    "## Le fait de les laisser permet de diversifier un peu plus l'analyse mais il convient de souligner qu'elles sont les motifs d'hospitalisation prépondérants. "
   ]
  },
  {
   "cell_type": "code",
   "execution_count": null,
   "id": "7959a792-951f-4044-9014-011863a5859e",
   "metadata": {},
   "outputs": [],
   "source": [
    "df_modelisation['plus_repandu'] = df_modelisation.drop(['dept', 'classe_age',\n",
    "                                                        'indicatrice_Maladies cardio-neurovasculaires',\n",
    "                                                        'indicatrice_Traitements psychotropes (hors pathologies)'], axis = 1).apply(lambda x: x.idxmax(), axis = 1)\n",
    "df_modelisation_30_60['plus_repandu'] = df_modelisation_30_60.drop(['dept', 'classe_age',\n",
    "                                                        'indicatrice_Maladies cardio-neurovasculaires',\n",
    "                                                        'indicatrice_Traitements psychotropes (hors pathologies)'], axis = 1).apply(lambda x: x.idxmax(), axis = 1)\n"
   ]
  },
  {
   "cell_type": "code",
   "execution_count": null,
   "id": "c905d9b9-6dba-473c-9bb1-e04231a0c5b6",
   "metadata": {},
   "outputs": [],
   "source": [
    "df_modelisation['plus_repandu'].unique()\n",
    "#on aura donc peut-etre a considerer les variables avc et soins psychotropes\n",
    "#differemment car elles risquent de peut-etre\n",
    "#capter toute l analyse et ne pas laisser grand chose aux autres pathologies\n",
    "#car dans le cas ou on les laisse dans le dataframe\n",
    "#ce sont les deux seules maladies a apparaitre"
   ]
  },
  {
   "cell_type": "code",
   "execution_count": null,
   "id": "cb3a061f-c929-43af-ba47-660832a11dec",
   "metadata": {},
   "outputs": [],
   "source": [
    "df_modelisation = df_modelisation.merge(pd.read_csv('base_pop_dep.csv'), how = 'left', left_on = 'dept', right_on = 'numero_dep')\n",
    "df_modelisation_30_60 = df_modelisation_30_60.merge(pd.read_csv('base_pop_dep.csv'), how = 'left', left_on = 'dept', right_on = 'numero_dep')"
   ]
  },
  {
   "cell_type": "code",
   "execution_count": null,
   "id": "33e51984-a07b-4844-af48-ce07ca07eef2",
   "metadata": {},
   "outputs": [],
   "source": [
    "df_modelisation.columns"
   ]
  },
  {
   "cell_type": "code",
   "execution_count": null,
   "id": "50ec53e1-1d1c-43a9-84dd-5939705fd6e0",
   "metadata": {},
   "outputs": [],
   "source": [
    "cols_pond = df_modelisation.columns.difference(['classe_age','dept','plus_repandu', 'Unnamed: 0',\n",
    "                                                'numero_dep', 'dep', 'total_habitants'])\n",
    "df_modelisation[cols_pond] = df_modelisation[cols_pond].div(df_modelisation['total_habitants'], axis=0)\n",
    "cols_pond2 = df_modelisation_30_60.columns.difference(['classe_age','dept','plus_repandu', 'Unnamed: 0',\n",
    "                                                'numero_dep', 'dep', 'total_habitants'])\n",
    "df_modelisation_30_60[cols_pond2] = df_modelisation_30_60[cols_pond2].div(df_modelisation['total_habitants'], axis=0)"
   ]
  },
  {
   "cell_type": "code",
   "execution_count": null,
   "id": "4953fc9b-5e21-4449-8a8a-fe076400d727",
   "metadata": {},
   "outputs": [],
   "source": [
    "df_modelisation = df_modelisation.drop(['Unnamed: 0', 'plus_repandu', 'total_habitants'], axis = 1)\n",
    "df_modelisation_30_60 = df_modelisation_30_60.drop(['Unnamed: 0', 'plus_repandu', 'total_habitants'], axis = 1)\n"
   ]
  },
  {
   "cell_type": "code",
   "execution_count": null,
   "id": "671ba618-e3de-48fc-b9b5-a7da9d587b4c",
   "metadata": {},
   "outputs": [],
   "source": [
    "base_pollution = pd.read_csv('base_pollution.csv')"
   ]
  },
  {
   "cell_type": "code",
   "execution_count": null,
   "id": "e2ef7289-a216-44e5-95d6-9a654385ee65",
   "metadata": {},
   "outputs": [],
   "source": [
    "base_pollution = base_pollution.groupby('DEP').sum()"
   ]
  },
  {
   "cell_type": "code",
   "execution_count": null,
   "id": "942ccf63-ad9d-4c79-9220-1044e38fa1c6",
   "metadata": {},
   "outputs": [],
   "source": [
    "base_pollution = base_pollution.drop(['INSEE commune', 'Commune', 'REG'], axis = 1)"
   ]
  },
  {
   "cell_type": "code",
   "execution_count": null,
   "id": "c3e52497-9c8d-4c34-8523-5d6fa158593a",
   "metadata": {},
   "outputs": [],
   "source": [
    "base_pol_dep = df_modelisation.merge(base_pollution, how = 'right', left_on = 'dept', right_on = 'DEP',\n",
    "                                     right_index=True)\n",
    "\n",
    "base_pol_dep_30_60 = df_modelisation_30_60.merge(base_pollution, how = 'right', left_on = 'dept', right_on = 'DEP',\n",
    "                                     right_index=True)"
   ]
  },
  {
   "cell_type": "code",
   "execution_count": null,
   "id": "1cb7cc50-e85a-411f-ac31-770dd2900628",
   "metadata": {},
   "outputs": [],
   "source": [
    "base_pol_dep_gen = base_pol_dep_gen.drop(['Unnamed: 0', 'numero_dep'], axis = 1)\n",
    "base_pol_dep_gen_30_60 = base_pol_dep_gen_30_60.drop(['Unnamed: 0', 'numero_dep'], axis = 1)"
   ]
  },
  {
   "cell_type": "code",
   "execution_count": null,
   "id": "abd87811-384a-4fd5-b94a-875b6b7a6f72",
   "metadata": {},
   "outputs": [],
   "source": [
    "num_cols = base_pol_dep_gen.select_dtypes(include=['number']).columns\n",
    "num_data = base_pol_dep_gen[num_cols]"
   ]
  },
  {
   "cell_type": "code",
   "execution_count": null,
   "id": "98b803a5-b385-4644-8ceb-17230b0de700",
   "metadata": {},
   "outputs": [],
   "source": [
    "num_cols_30_60 = base_pol_dep_gen_30_60.select_dtypes(include=['number']).columns\n",
    "num_data_30_60 = base_pol_dep_gen_30_60[num_cols_30_60]"
   ]
  },
  {
   "cell_type": "code",
   "execution_count": null,
   "id": "b76d119b-2a38-4cdd-85fc-e23927af8c09",
   "metadata": {},
   "outputs": [],
   "source": [
    "scaler = StandardScaler()\n",
    "data_standard = scaler.fit_transform(num_data)\n",
    "data_standard_30_60 = scaler.fit_transform(num_data_30_60)"
   ]
  },
  {
   "cell_type": "code",
   "execution_count": null,
   "id": "60b9f03b-d0f8-47fc-b706-26fc3158fc3c",
   "metadata": {},
   "outputs": [],
   "source": [
    "base_standard = pd.concat([base_pol_dep_gen[['dept', 'dep']], pd.DataFrame(data_standard, columns=num_cols)], axis=1)\n",
    "base_standard_30_60 = pd.concat([base_pol_dep_gen_30_60[['dept', 'dep']], pd.DataFrame(data_standard_30_60, columns=num_cols_30_60)]\n",
    "                                , axis=1)\n",
    "\n",
    "\n"
   ]
  },
  {
   "cell_type": "code",
   "execution_count": null,
   "id": "dacd15e8-1ccd-4af9-86a9-5ba85d33d779",
   "metadata": {},
   "outputs": [],
   "source": [
    "#on perd indicatrice_Hospitalisations ponctuelles (avec ou sans pathologies, traitements ou maternité), \n",
    "#etrange car toutes les lignes valent 0 mais mis a part ca c est bien "
   ]
  },
  {
   "cell_type": "code",
   "execution_count": null,
   "id": "075549ce-57c5-43fc-9a36-39277dabfa69",
   "metadata": {},
   "outputs": [],
   "source": [
    "base_standard.to_csv(\"base_modelisation.csv\")\n",
    "base_standard_30_60.dropna().to_csv(\"base_modelisation_30_60.csv\")"
   ]
  },
  {
   "cell_type": "code",
   "execution_count": null,
   "id": "9b53c4a1-96ea-4992-b64f-dd82b2a7fd9e",
   "metadata": {},
   "outputs": [],
   "source": [
    "data_reg = data_gen.drop(['annee', 'patho_niv2', 'patho_niv3', 'top', 'cla_age_5', 'sexe', 'region',\n",
    "                          'ntop', 'npop', 'prev', 'niveau_prioritaire','libelle_classe_age',\n",
    "                          'libelle_sexe', 'tri'], axis = 1)"
   ]
  },
  {
   "cell_type": "code",
   "execution_count": null,
   "id": "1ff2901b-38c4-41ee-ad8f-3c8b5ba4812d",
   "metadata": {},
   "outputs": [],
   "source": [
    "data_reg"
   ]
  },
  {
   "cell_type": "code",
   "execution_count": null,
   "id": "6f91d6ca-9442-4357-bf9d-ccbb3e9f2758",
   "metadata": {},
   "outputs": [],
   "source": [
    "print(data_reg['classe_age'].isnull().sum())"
   ]
  },
  {
   "cell_type": "markdown",
   "id": "2ee5ea59-fe78-42b0-af63-4790b1a20d36",
   "metadata": {},
   "source": [
    "Étant donné que l'âge est une variable très importante, on ne peut pas garder des données dans lesquelles on trouve des NaN. \n",
    "On décide donc de supprimer toutes les lignes ne renseignant pas l'âge du patient. "
   ]
  },
  {
   "cell_type": "code",
   "execution_count": null,
   "id": "10818c84-e375-4f66-bffe-5d29590ed8b2",
   "metadata": {},
   "outputs": [],
   "source": [
    "data_reg = data_reg.dropna()"
   ]
  },
  {
   "cell_type": "code",
   "execution_count": null,
   "id": "1359c099-5ff9-409d-8f23-9e97066c8549",
   "metadata": {},
   "outputs": [],
   "source": [
    "data_reg = pd.get_dummies(data_reg, prefix = 'indicatrice', columns=['patho_niv1'], dtype='int')"
   ]
  },
  {
   "cell_type": "code",
   "execution_count": null,
   "id": "41b61d5f-5810-4494-bfcb-40cffe3e6ba6",
   "metadata": {},
   "outputs": [],
   "source": [
    "data_reg.columns"
   ]
  },
  {
   "cell_type": "code",
   "execution_count": null,
   "id": "798cd785-820a-475d-a718-d365a71467e9",
   "metadata": {},
   "outputs": [],
   "source": [
    "data_reg = data_reg.drop(['indicatrice_Autres affections de longue durée (dont 31 et 32)',\n",
    "                          'indicatrice_Diabète', \n",
    "                          'indicatrice_Hospitalisations ponctuelles (avec ou sans pathologies, traitements ou maternité)',\n",
    "                          'indicatrice_Insuffisance rénale chronique terminale',\n",
    "                          'indicatrice_Maladies du foie ou du pancréas (hors mucoviscidose)',\n",
    "                          'indicatrice_Maladies inflammatoires ou rares ou VIH ou SIDA',\n",
    "                          'indicatrice_Maladies neurologiques ou dégénératives', \n",
    "                          'indicatrice_Maladies psychiatriques',\n",
    "                          'indicatrice_Maternité (avec ou sans pathologies)',\n",
    "                          'indicatrice_Séjours en hospitalisation complète pour prise en charge de la Covid-19',\n",
    "                          'indicatrice_Traitements du risque vasculaire (hors pathologies)',\n",
    "                          'indicatrice_Traitements psychotropes (hors pathologies)'], axis = 1)\n",
    "#on ne garde que les variables qui peuvent nous interesser, \n",
    "#donc les maladies cardio-neurovasculaires, \n",
    "#les maladies respiratoires chroniques, \n",
    "#et les cancers"
   ]
  },
  {
   "cell_type": "code",
   "execution_count": null,
   "id": "a4574ad5-f0c7-4f26-8428-4e45132e8c6e",
   "metadata": {},
   "outputs": [],
   "source": [
    "data_reg = data_reg.merge(base_pollution, how = 'left', left_on = 'dept', right_index = True)"
   ]
  },
  {
   "cell_type": "code",
   "execution_count": null,
   "id": "2aebd9fe-5b00-408d-8e88-36c9ba1c4f3d",
   "metadata": {},
   "outputs": [],
   "source": [
    "data_reg = data_reg.dropna()"
   ]
  },
  {
   "cell_type": "code",
   "execution_count": null,
   "id": "ebb54e3a-aa02-4fcd-b312-ce8aedaec076",
   "metadata": {},
   "outputs": [],
   "source": [
    "data_reg['transports/routier'] = data_reg['Autres transports'] + data_reg['Autres transports international']"
   ]
  },
  {
   "cell_type": "code",
   "execution_count": null,
   "id": "3ed84a85-8003-424c-9f5e-ea4c05b2977c",
   "metadata": {},
   "outputs": [],
   "source": [
    "data_reg = data_reg.drop(['Autres transports', 'Autres transports international'], axis = 1)"
   ]
  },
  {
   "cell_type": "markdown",
   "id": "2b10a76f-6bfa-4b9b-a5c4-8ac91920713c",
   "metadata": {},
   "source": [
    "Sommer ces colonnes entre elles et les supprimer au niveau individuel ne semble pas être aberrant car les sources de pollution sont assez proches et exprimées dans la même unité. "
   ]
  },
  {
   "cell_type": "code",
   "execution_count": null,
   "id": "a5c8c8b0-c7d0-4d1f-a35c-bd5903bb4133",
   "metadata": {},
   "outputs": [],
   "source": [
    "data_reg['cons_bat'] = data_reg['Résidentiel'] + data_reg['Tertiaire']"
   ]
  },
  {
   "cell_type": "code",
   "execution_count": null,
   "id": "21e2e905-7424-471c-adaa-0e152cb27a61",
   "metadata": {},
   "outputs": [],
   "source": [
    "data_reg = data_reg.drop(['Résidentiel', 'Tertiaire'], axis = 1)"
   ]
  },
  {
   "cell_type": "markdown",
   "id": "c376abc3-7179-4bf5-b60b-2e5add40dc3d",
   "metadata": {},
   "source": [
    "Même justification qu'avant et cela permettrait donc d'avoir moins de bruit pour faire des régressions.\n",
    "D'autant que les corrélations sont vérifiées dans la partie cartographie/clustering."
   ]
  },
  {
   "cell_type": "code",
   "execution_count": null,
   "id": "62bb0d50-9145-4b11-ade1-23bc740a27d8",
   "metadata": {},
   "outputs": [],
   "source": [
    "data_reg.to_csv(\"data_reg.csv\")"
   ]

  },
  {
   "cell_type": "code",
   "execution_count": null,
   "id": "1f7be587-4f7c-47b1-a587-a6cbe9125df6",
   "metadata": {},
   "outputs": [],
   "source": [
    "cancer = data_reg[data_reg['indicatrice_Cancers'] == 1]"
   ]
  },
  {
   "cell_type": "code",
   "execution_count": null,
   "id": "9a849b94-f303-4325-9a7b-bdbb637f30e3",
   "metadata": {},
   "outputs": [],
   "source": [
    "cancer['classe_age'].mean()"
   ]
  },
  {
   "cell_type": "code",
   "execution_count": null,
   "id": "03c3738e-bac5-4370-85c6-6fecaf16b3d8",
   "metadata": {},
   "outputs": [],
   "source": [
    "\n",
    "\n",
    "\n",
    "classe_age_values = cancer['classe_age']\n",
    "\n",
    "plt.figure(figsize=(8, 6))\n",
    "sns.histplot(classe_age_values, bins=20, kde=True, color='skyblue')\n",
    "plt.title('Distribution des âges auxquels un patient est hospitalisé pour cancer')\n",
    "plt.xlabel(\"Classe d'âge\")\n",
    "plt.ylabel('Fréquence')\n",
    "plt.grid(axis='y', alpha=0.75)\n",
    "plt.show()"
   ]
  },
  {
   "cell_type": "code",
   "execution_count": null,
   "id": "5a191e0f-2c35-490d-baab-45cf99c8187f",
   "metadata": {},
   "outputs": [],

   "source": []


  }
 ],
 "metadata": {
  "kernelspec": {
   "display_name": "Python 3 (ipykernel)",
   "language": "python",
   "name": "python3"
  },
  "language_info": {
   "codemirror_mode": {
    "name": "ipython",
    "version": 3
   },
   "file_extension": ".py",
   "mimetype": "text/x-python",
   "name": "python",
   "nbconvert_exporter": "python",
   "pygments_lexer": "ipython3",
   "version": "3.10.13"
  }
 },
 "nbformat": 4,
 "nbformat_minor": 5
}
