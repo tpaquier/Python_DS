{
 "cells": [
  {
   "cell_type": "markdown",
   "id": "e44d49ff-3947-465d-bdcf-1d6b948c156d",
   "metadata": {},
   "source": [
    "# Import des packages"
   ]
  },
  {
   "cell_type": "code",
   "execution_count": null,
   "id": "f8a2a000-aa04-461c-92b8-7c33f5ab54d2",
   "metadata": {
    "scrolled": true
   },
   "outputs": [],
   "source": [
    "import numpy as np\n",
    "import pandas as pd\n",
    "import matplotlib.pyplot as plt\n",
    "import requests\n",
    "!pip install --upgrade xlrd #colab bug verson xlrd\n",
    "!pip install geopandas\n",
    "!pip install pandas fiona shapely pyproj rtree\n",
    "!pip install contextily\n",
    "!pip install pygeos\n",
    "!pip install topojson\n",
    "import geopandas as gpd\n",
    "import contextily as ctx\n",
    "import matplotlib.pyplot as plt\n",
    "from sklearn.preprocessing import StandardScaler\n",
    "from sklearn.decomposition import PCA\n",
    "!pip install factor_analyzer\n",
    "from factor_analyzer import FactorAnalyzer\n",
    "from sklearn.cluster import KMeans\n",
    "import seaborn as sns\n",
    "import plotly.express as px\n",
    "!pip install --upgrade geopandas matplotlib\n",
    "#!pip install requests py7zr geopandas openpyxl tqdm s3fs PyYAML xlrd\n",
    "#!pip install git+https://github.com/inseefrlab/cartiflette@80b8a5a28371feb6df31d55bcc2617948a5f9b1a"
   ]
  },
  {
   "cell_type": "code",
   "execution_count": null,
   "id": "52e4361e-e6c0-4b39-b2d6-a59c740951d4",
   "metadata": {},
   "outputs": [],
   "source": [
    "base_grande = pd.read_csv(\"effectifs.csv\", sep = \";\", encoding = 'utf-8', engine = 'python')\n",
    "\n",
    "base_grande = base_grande.dropna()\n",
    "\n",
    "base_grande = pd.get_dummies(base_grande, prefix = 'indicatrice_', columns=['patho_niv1'], dtype='int')\n",
    "\n",
    "base_grande[\"classe_age\"] = base_grande[\"cla_age_5\"].apply(\n",
    "    lambda x: np.mean(list(map(lambda y : int(y), x.split(\"-\")))) if \"-\" in x else (np.nan if x == 'tsage' else 100)\n",
    ")\n"
   ]
  },
  {
   "cell_type": "markdown",
   "id": "c3c14ff5-74d1-4e8e-bc32-b2a34a7999bc",
   "metadata": {},
   "source": [
    "## Premier exemple de carto\n",
    "Exemple de cartographie pour commencer la visualisation de la répartition des maladies. La première porte sur les cancers parce que les conséquences de la pollution sur la santé sont maintenant acceptées. Nous cherchions à savoir s'il nous était possible de retrouver de tels corrélations à partir de nos données (qui manquent parfois de précision)."
   ]
  },
  {
   "cell_type": "code",
   "execution_count": null,
   "id": "98002b3c-747c-4583-b822-7ad95055ecb2",
   "metadata": {},
   "outputs": [],
   "source": [
    "base_grande = base_grande.drop(['top', 'cla_age_5', 'patho_niv2', 'patho_niv3', 'annee', \n",
    "                                'libelle_classe_age', 'sexe', 'libelle_sexe'], axis = 1)\n",
    "df_model_cancer = base_grande[['dept', 'classe_age', 'indicatrice__Cancers']]"
   ]
  },
  {
   "cell_type": "code",
   "execution_count": null,
   "id": "1ff5551c-e26b-4eca-b01d-fd68416166e5",
   "metadata": {},
   "outputs": [],
   "source": [
    "#https://www.data.gouv.fr/fr/datasets/r/90b9341a-e1f7-4d75-a73c-bbc010c7feeb"
   ]
  },
  {
   "cell_type": "code",
   "execution_count": null,
   "id": "bd07707a-9263-458d-bce0-c36ca7540f74",
   "metadata": {},
   "outputs": [],
   "source": [
    "#debut de la création de carte"
   ]
  },
  {
   "cell_type": "code",
   "execution_count": null,
   "id": "471a08fc-83ea-4cea-8949-ef013104557e",
   "metadata": {},
   "outputs": [],
   "source": [
    "france = gpd.read_file('https://www.data.gouv.fr/fr/datasets/r/90b9341a-e1f7-4d75-a73c-bbc010c7feeb')"
   ]
  },
  {
   "cell_type": "code",
   "execution_count": null,
   "id": "51cd19e6-e3b2-4aea-aba6-7612c7fa9fa2",
   "metadata": {},
   "outputs": [],
   "source": [
    "france.plot()"
   ]
  },
  {
   "cell_type": "code",
   "execution_count": null,
   "id": "8dadf6ae-227f-46f1-b1f7-0e7b462a9ce2",
   "metadata": {},
   "outputs": [],
   "source": [
    "df_carto = pd.merge(left = df_model_cancer, right = france, \n",
    "                    how = 'left', left_on='dept', right_on='code')"
   ]
  },
  {
   "cell_type": "code",
   "execution_count": null,
   "id": "d7ab797a-29e1-40e5-92bd-0818163808a2",
   "metadata": {},
   "outputs": [],
   "source": [
    "df_carto['dept'].unique()"
   ]
  },
  {
   "cell_type": "markdown",
   "id": "e12a323b-5c35-44ad-acf6-27638e4567f8",
   "metadata": {},
   "source": [
    "##### Nous avons décidé de laisser les DOM-TOM hors de notre analyse car les données à disposition ne recouvrent pas toujours les mêmes territoires entre la base Ameli, celle de la pollution, et celle de la population. "
   ]
  },
  {
   "cell_type": "code",
   "execution_count": null,
   "id": "78fa96df-4655-4db8-b9ac-21c4f19b4775",
   "metadata": {},
   "outputs": [],
   "source": [
    "dept_manquants = ['999', '974', '971', '972', '973', '976']\n",
    "\n",
    "df_carto = df_carto[~df_carto['dept'].isin(dept_manquants)]\n",
    "\n",
    "cancer_dep = df_carto.groupby('dept')['indicatrice__Cancers'].sum().reset_index()\n",
    "\n",
    "df_carto = df_carto.merge(cancer_dep, on='dept', suffixes=('', '_sum'))\n",
    "\n",
    "df_carto = gpd.GeoDataFrame(df_carto, crs='EPSG:4326')"
   ]
  },
  {
   "cell_type": "markdown",
   "id": "72ecb161-f8cc-4118-9d90-ae47cf8aa3c6",
   "metadata": {},
   "source": [
    "### Première carte"
   ]
  },
  {
   "cell_type": "code",
   "execution_count": null,
   "id": "9ebe35da-0aab-486d-a524-54f4e0031955",
   "metadata": {},
   "outputs": [],
   "source": [
    "df_carto2 = pd.merge(left = france, right = cancer_dep, \n",
    "                    how = 'left', left_on='code', right_on='dept')\n",
    "fig, ax = plt.subplots(figsize=(10, 10))\n",
    "df_carto2.plot(ax=ax, column='indicatrice__Cancers', legend=True, cmap='OrRd')\n",
    "plt.title('Nombre de cas de cancer par département (non pondéré)')\n",
    "plt.show()"
   ]
  },
  {
   "cell_type": "markdown",
   "id": "a73985f2-f4d4-4d3e-8455-3d5ce44df979",
   "metadata": {},
   "source": [
    "Cette carte représente le nombre de patients étant hospitalisés à cause d'un cancer par département. Il convient néanmoins de remettre en perspective le fait qu'il y a de nombreux patients qui ne sont pas soignés dans leur département. Par ailleurs, il faut également considérer le cas où un patient a vécu toute sa vie dans un département et est hospitalisé une fois qu'il vit dans un nouveau département.  "
   ]
  },
  {
   "cell_type": "code",
   "execution_count": null,
   "id": "c37118a0-bdca-42e9-9cd3-0a7ea4a10b0e",
   "metadata": {},
   "outputs": [],
   "source": [
    "base_pop = pd.read_csv(\"base_pop_dep.csv\")\n",
    "\n",
    "base_pop\n",
    "df_carto2[\"pourcentage_cancer\"] = (df_carto2[\"indicatrice__Cancers\"] / base_pop[\"total_habitants\"])*100\n",
    "\n",
    "df_carto2\n",
    "\n",
    "fig, ax = plt.subplots(figsize=(10, 10))\n",
    "df_carto2.plot(ax=ax, column='pourcentage_cancer', legend=True, cmap='magma')\n",
    "plt.title('Nombre de cas de cancers par département en pourcentage de la population')\n",
    "plt.show()\n",
    "\n",
    "#effet de population imp? \n",
    "#reste a voir avec regression/acp/clustering\n",
    "#les departements avec les plus grands taux de cancer semblent etre les departements avec la population agee la plus importante\n",
    "#on ne remarque pas forcement de suite l effet de la pollution sur le nombre de patients atteints de cancer\n",
    "#paris aurait ete plus eleve\n",
    "\n",
    "import folium\n",
    "\n",
    "centroid = df_carto2.geometry.centroid.unary_union.centroid\n",
    "m = folium.Map(location=[centroid.y, centroid.x], zoom_start=10)\n",
    "\n",
    "for i, row in df_carto2.iterrows():\n",
    "    folium.GeoJson(\n",
    "        row['geometry'],\n",
    "        name=f\"Dept: {row['nom']}, Pourcentage Cancer: {row['pourcentage_cancer']}\",\n",
    "        tooltip=f\"Dept: {row['nom']}, Pourcentage Cancer: {row['pourcentage_cancer']}\",\n",
    "    ).add_to(m)\n",
    "m\n"
   ]
  },
  {
   "cell_type": "code",
   "execution_count": null,
   "id": "004019a0-aa54-402a-9e1f-5e2538d7c621",
   "metadata": {},
   "outputs": [],
   "source": [
    "base_groupe_dep = pd.read_csv('base_groupe_dep_moy_age.csv')\n",
    "\n",
    "base_groupe_dep = base_groupe_dep.drop(['Unnamed: 0'], axis = 1)\n",
    "\n",
    "base_groupe_dep = base_groupe_dep[~base_groupe_dep['dept'].isin(dept_manquants)]\n",
    "\n",
    "base_groupe_dep = base_groupe_dep.merge(base_pop, how='left', left_on = 'dept', right_on = 'numero_dep').drop(['Unnamed: 0'], axis = 1)\n",
    "\n",
    "base_groupe_dep = base_groupe_dep.set_index('dep')\n",
    "\n",
    "num_cols_dep = base_groupe_dep.select_dtypes(include=['number']).columns\n",
    "num_data_dep = base_groupe_dep[num_cols_dep]\n",
    "scaler = StandardScaler()\n",
    "base_standard_dep = scaler.fit_transform(num_data_dep)\n",
    "base_standard_dep = pd.DataFrame(data=base_standard_dep, columns=num_cols_dep, index=base_groupe_dep.index)"
   ]
  },
  {
   "cell_type": "code",
   "execution_count": null,
   "id": "4061e66c-0844-445c-8dec-28f8f1619132",
   "metadata": {},
   "outputs": [],
   "source": [
    "base_pop = base_pop.drop(['Unnamed: 0'], axis = 1).set_index('dep')"
   ]
  },
  {
   "cell_type": "code",
   "execution_count": null,
   "id": "89cc9582-18a7-4a04-97b5-8c7ebc56a8f3",
   "metadata": {},
   "outputs": [],
   "source": [
    "base_standard_dep = base_standard_dep.drop('indicatrice_Hospitalisations ponctuelles (avec ou sans pathologies, traitements ou maternité)', axis = 1)"
   ]
  },
  {
   "cell_type": "code",
   "execution_count": null,
   "id": "2b9d49a5-9aaa-44c7-83e3-1e960fdfba05",
   "metadata": {},
   "outputs": [],
   "source": [
    "base_standard_dep = base_standard_dep.drop(['indicatrice_Autres affections de longue durée (dont 31 et 32)',\n",
    "                                            'indicatrice_Diabète',\n",
    "                                            'indicatrice_Maladies inflammatoires ou rares ou VIH ou SIDA',\n",
    "                                            'indicatrice_Maladies neurologiques ou dégénératives',\n",
    "                                            'indicatrice_Maternité (avec ou sans pathologies)',\n",
    "                                            'indicatrice_Traitements psychotropes (hors pathologies)',\n",
    "                                            'indicatrice_Insuffisance rénale chronique terminale',\n",
    "                                            'indicatrice_Séjours en hospitalisation complète pour prise en charge de la Covid-19',\n",
    "                                           'indicatrice_Traitements du risque vasculaire (hors pathologies)',\n",
    "                                           'indicatrice_Maladies psychiatriques'], axis = 1)\n",
    "#on laisse tomber ces colonnes pour essayer d avoir les maladies qui en theorie devraient \n",
    "#etre causees par la pollution"
   ]
  },
  {
   "cell_type": "code",
   "execution_count": null,
   "id": "fb73fd34-6685-4e06-9929-17418b1086b3",
   "metadata": {},
   "outputs": [],
   "source": [
    "base_standard_dep.columns"
   ]
  },
  {
   "cell_type": "code",
   "execution_count": null,
   "id": "d94acfd3-285c-4d00-8722-84fcc2152286",
   "metadata": {},
   "outputs": [],
   "source": [
    "pca = PCA(n_components=2)\n",
    "pca_result_dep = pca.fit_transform(base_standard_dep)\n",
    "pca_df_dep = pd.DataFrame(data=pca_result_dep, columns=['PC1', 'PC2'])\n",
    "\n",
    "# On utilise factor_analyzer pour utiliser la méthode de rotation promax\n",
    "fa_promax = FactorAnalyzer(n_factors=2, rotation='promax')\n",
    "fa_promax_result_dep = fa_promax.fit_transform(base_standard_dep)\n",
    "fa_promax_df_dep = pd.DataFrame(data=fa_promax_result_dep, columns=['Factor1', 'Factor2'])\n",
    "\n",
    "# On prend les resultats de l'ACP avec la méthode de rotation utilisee\n",
    "loadings_dep = fa_promax.loadings_\n",
    "loading_matrix_dep = pd.DataFrame(loadings_dep, columns=['Factor1', 'Factor2'], index=base_standard_dep.columns)\n",
    "fig, (ax_pca, ax_fa) = plt.subplots(1, 2, figsize=(16, 8))\n",
    "\n",
    "# On represente graphiquement les cercles de correlation\n",
    "circle_pca = plt.Circle((0, 0), 1, fill=False, edgecolor='b', linestyle='dashed')\n",
    "ax_pca.add_patch(circle_pca)\n",
    "for i, var_pca in enumerate(pca_df_dep.columns):\n",
    "    ax_pca.arrow(0, 0, pca.components_[0, i], pca.components_[1, i],\n",
    "                 color='r', alpha=0.7, linewidth=0.5, head_width=0.02, head_length=0.02)\n",
    "    ax_pca.text(pca.components_[0, i] * 1.15, pca.components_[1, i] * 1.15, var_pca,\n",
    "                color='b', ha='center', va='center')\n",
    "ax_pca.set_xlim([-1, 1])\n",
    "ax_pca.set_ylim([-1, 1])\n",
    "ax_pca.set_aspect('equal', 'box')\n",
    "ax_pca.set_title(\"Cercle de correlation de l'ACP\")\n",
    "circle_fa = plt.Circle((0, 0), 1, fill=False, edgecolor='b', linestyle='dashed')\n",
    "ax_fa.add_patch(circle_fa)\n",
    "for i, var_fa in enumerate(loading_matrix_dep.index):\n",
    "    ax_fa.arrow(0, 0, loading_matrix_dep.loc[var_fa, 'Factor1'], loading_matrix_dep.loc[var_fa, 'Factor2'],\n",
    "                color='r', alpha=0.7, linewidth=0.5, head_width=0.02, head_length=0.02)\n",
    "    ax_fa.text(loading_matrix_dep.loc[var_fa, 'Factor1'] * 1.15, loading_matrix_dep.loc[var_fa, 'Factor2'] * 1.15, var_fa,\n",
    "               color='b', ha='center', va='center')\n",
    "ax_fa.set_xlim([-1, 1])\n",
    "ax_fa.set_ylim([-1, 1])\n",
    "ax_fa.set_aspect('equal', 'box')\n",
    "ax_fa.set_title(\"Cercle de correlation de l'ACP en utilisant la méthode de rotation Promax\")\n",
    "\n",
    "plt.show()\n"
   ]
  },
  {
   "cell_type": "markdown",
   "id": "d7fa49a4-d8b4-4eed-a449-102b6d5d06c4",
   "metadata": {},
   "source": [
    "Le résultat de l'ACP est assez peu concluant. Malgré avoir retiré beaucoup de variables pour essayer de ne garder que celles qui pouvaient avoir un lien avec la pollution, les composantes principales restent très liées. Et cela quand bien même on utilise Promax ou Varimax. \n",
    "Afin de clusteriser nous garderons tout de même ces variables puisqu'elles sont le plus utile qu'on ait pu obtnir mais on sait par avance que les départements qui seront mis dans les mêmes clusters seront les départements avec des caractéristiques démographiques proches. Le poids du nombre de malades ne semble pas pouvoir être démêlé, pour la plupart des cas, du nombre d'habitants d'un département. "
   ]
  },
  {
   "cell_type": "code",
   "execution_count": null,
   "id": "9d1f5a97-cb5c-42df-b1dc-35e611ba1df7",
   "metadata": {},
   "outputs": [],
   "source": [
    "num_clusters_range = range(1, 11)\n",
    "\n",
    "#On regarde la somme des carrés des distances a l'intérieur de chaque cluster\n",
    "inertia_values = []\n",
    "for n_clusters in num_clusters_range:\n",
    "    kmeans = KMeans(n_clusters=n_clusters, random_state=42)\n",
    "    kmeans.fit(base_standard_dep)\n",
    "    inertia_values.append(kmeans.inertia_)\n",
    "\n",
    "plt.plot(num_clusters_range, inertia_values, marker='o')\n",
    "plt.title('Méthode du coude')\n",
    "plt.xlabel('Nombre de clusters')\n",
    "plt.ylabel('Somme des carrés des distances intra-cluster')\n",
    "plt.show()"
   ]
  },
  {
   "cell_type": "markdown",
   "id": "22c98b6c-f3a9-4742-b00b-02cff29b250e",
   "metadata": {},
   "source": [
    "### Classification des départements en cinq clusters, et leur visualisation\n",
    "A vrai dire tout ce bout de code n'est que pour pouvoir avoir le graphique \"interactif\" où on a les départements qui sont affichés et les clusters auxquels ils appartiennent, quand on passe sa souris dessus."
   ]
  },
  {
   "cell_type": "code",
   "execution_count": null,
   "id": "17ffb813-752a-4338-a349-03d0805b2532",
   "metadata": {},
   "outputs": [],
   "source": [
    "base_standard_dep_reset = base_standard_dep.reset_index()\n",
    "# On refait les memes opérations que precedemment mais avec l'index reset (il y a eu quelques problemes \n",
    "#par rapport a ca donc, ce n est peut etre pas necessaire mais c est plus sur)\n",
    "pca = PCA(n_components=2)\n",
    "pca_result_bis = pca.fit_transform(base_standard_dep_reset.drop(columns=['dep']))  \n",
    "pca_df_reduit = pd.DataFrame(data=pca_result_bis, columns=['PC1', 'PC2'])\n",
    "fa = FactorAnalyzer(rotation='promax', n_factors=2)\n",
    "fa.fit(base_standard_dep_reset.drop(columns=['dep']))  \n",
    "rotated_loadings = fa.loadings_\n",
    "\n",
    "# On clusterise par la méthode des K-moyennes\n",
    "kmeans = KMeans(n_clusters=5, init='k-means++', max_iter=300, n_init=10, random_state=0)\n",
    "base_standard_dep_reset['Cluster'] = kmeans.fit_predict(pca_df_reduit)\n",
    "df_combined = pd.concat([base_standard_dep_reset[['dep', 'Cluster']], pca_df_reduit], axis=1)\n",
    "\n",
    "# On utilise plotly pour faire le schema interactif\n",
    "fig = px.scatter(df_combined, x='PC1', y='PC2', color='Cluster',\n",
    "                 title='Clusters interactif', labels={'Cluster': 'Cluster'},\n",
    "                 color_continuous_scale='viridis', hover_name='dep')\n",
    "fig.show()\n"
   ]
  },
  {
   "cell_type": "code",
   "execution_count": null,
   "id": "d6b8e234-888f-4eab-9229-235ad6db2075",
   "metadata": {},
   "outputs": [],
   "source": [
    "#Manipulations pour retrouver un geodataframe parce qu avec les manipulations precedentes\n",
    "#il y avait eu des soucis pour \"retrouver cette propriete\"\n",
    "standard_dep = base_standard_dep.merge(france, how='left', left_index=True, right_on='nom')\n",
    "standard_dep = standard_dep.set_index('nom')\n",
    "base_standard_dep_reset = base_standard_dep_reset.set_index('dep')\n",
    "cluster_column = base_standard_dep_reset['Cluster']\n",
    "standard_dep['Cluster'] = cluster_column.loc[standard_dep.index.values]\n",
    "\n",
    "\n",
    "standard_dep = gpd.GeoDataFrame(standard_dep, geometry='geometry')\n",
    "\n",
    "fig, ax = plt.subplots(figsize=(10, 10))\n",
    "standard_dep.plot(column='Cluster', cmap='viridis', legend=True, ax=ax)\n",
    "ax.set_title('Carte avec les clusters')\n",
    "plt.show()"
   ]
  },
  {
   "cell_type": "markdown",
   "id": "83d5ebad-e5b2-4e21-af16-1be32ce61815",
   "metadata": {},
   "source": [
    "### Représentation et cartographie avec les données liées à la pollution. \n",
    "L'objectif de cette partie était de voir s'il y avait des profils de département similaires qui pourraient coïncider avec le découpage fait au préalable, qui d'une certaine façon est un découpage démographico-pathologique."
   ]
  },
  {
   "cell_type": "code",
   "execution_count": null,
   "id": "3279a86c-32c2-42a7-a71e-226ac5c69c03",
   "metadata": {},
   "outputs": [],
   "source": [
    "base_pollution = pd.read_csv('pollution_group_dep.csv')\n",
    "\n",
    "base_pollution = base_pollution.merge(france, how = 'left', left_on = 'DEP', right_on = 'code')\n",
    "\n",
    "base_pollution = base_pollution.drop(['DEP', 'code'], axis = 1)\n",
    "\n",
    "base_pollution = base_pollution.set_index('nom')"
   ]
  },
  {
   "cell_type": "code",
   "execution_count": null,
   "id": "d3b8ed5a-40a4-40e2-848d-f9ea4509a1a4",
   "metadata": {},
   "outputs": [],
   "source": [
    "#ACP/CLusterring\n",
    "numeric_columns = base_pollution.columns[base_pollution.dtypes == 'float64']\n",
    "scaler = StandardScaler()\n",
    "base_pollution_standardized = scaler.fit_transform(base_pollution[numeric_columns])\n",
    "\n",
    "\n",
    "pca = PCA(n_components=2)\n",
    "pca_result = pca.fit_transform(base_pollution_standardized)\n",
    "pca_df = pd.DataFrame(data=pca_result, columns=['PC1', 'PC2'])\n",
    "\n",
    "wcss = []\n",
    "for i in range(1, 11):\n",
    "    kmeans = KMeans(n_clusters=i, init='k-means++', max_iter=300, n_init=10, random_state=0)\n",
    "    kmeans.fit(pca_df)\n",
    "    wcss.append(kmeans.inertia_)\n",
    "\n",
    "\n",
    "plt.plot(range(1, 11), wcss)\n",
    "plt.title('Heuristique du coude')\n",
    "plt.xlabel('Nombre de clusters')\n",
    "plt.ylabel('Somme des carrés des distances intra-cluster')\n",
    "plt.show()\n",
    "\n",
    "\n",
    "optimal_clusters = 5\n",
    "kmeans = KMeans(n_clusters=optimal_clusters, init='k-means++', max_iter=300, n_init=10, random_state=0)\n",
    "base_pollution['Cluster'] = kmeans.fit_predict(pca_df)\n",
    "\n",
    "\n",
    "plt.figure(figsize=(10, 8))\n",
    "scatter = plt.scatter(pca_df['PC1'], pca_df['PC2'], c=base_pollution['Cluster'], cmap='viridis', alpha=0.5)\n",
    "\n",
    "plt.colorbar(scatter, label='Cluster')\n",
    "plt.title('Cluster par K-moyennes')\n",
    "plt.xlabel('PC1')\n",
    "plt.ylabel('PC2')\n",
    "plt.show()\n",
    "\n",
    "plt.figure(figsize=(8, 8))\n",
    "circle = plt.Circle((0, 0), 1, fill=False, edgecolor='b', linestyle='dashed')\n",
    "plt.gca().add_patch(circle)\n",
    "\n",
    "for i, (pc1, pc2) in enumerate(zip(pca.components_[0], pca.components_[1])):\n",
    "    plt.arrow(0, 0, pc1, pc2, color='red', alpha=0.5, width=0.01, head_width=0.05)\n",
    "    plt.text(pc1 * 1.3, pc2 * 1.3, numeric_columns[i], color='red')\n",
    "\n",
    "plt.axis('equal')\n",
    "plt.title('Cercle de correlation')\n",
    "plt.xlabel('PC1')\n",
    "plt.ylabel('PC2')\n",
    "plt.show()\n"
   ]
  },
  {
   "cell_type": "markdown",
   "id": "04706575-51ee-4c3d-bfe5-8433557c506b",
   "metadata": {},
   "source": [
    "Ces corrélations permettront de réduire le nombre de colonnes dans la partie modélisation. On remarque qu'il y a globalement trois tendances distinctes et que pour la plupart, ce sont des sources de pollution proches. \n",
    "Faire une telle distinction est utile dans une optique écologique et de contrôle des émission de certaines communes ou départements mais pour notre problématique, sommer certaines de ces colonnes du fait de leur proximité ne semble pas être très dérangean. "
   ]
  },
  {
   "cell_type": "code",
   "execution_count": null,
   "id": "c0f327bc-50d4-4b3d-b2a2-5978a96cd637",
   "metadata": {},
   "outputs": [],
   "source": [
    "base_pollution = gpd.GeoDataFrame(base_pollution, geometry='geometry')\n",
    "\n",
    "fig, ax = plt.subplots(figsize=(10, 10))\n",
    "base_pollution.plot(column='Cluster', cmap='viridis', legend=True, ax=ax)\n",
    "ax.set_title('Carte de la pollution par cluster')\n",
    "plt.show()"
   ]
  },
  {
   "cell_type": "code",
   "execution_count": null,
   "id": "c4d6c91f-23ad-472c-a022-d99f47d2e286",
   "metadata": {},
   "outputs": [],
   "source": [
    "base_pollution.loc[base_pollution['Cluster'] == 4]"
   ]
  },
  {
   "cell_type": "code",
   "execution_count": null,
   "id": "c20863f6-408f-434f-8a3c-85fa78f668d5",
   "metadata": {},
   "outputs": [],
   "source": [
    "#peut etre faire une rotation promax pour mieux voir \n",
    "#les deux seuls departements dans le cluster 4 sont la seine-et-marne et l essonne"
   ]
  },
  {
   "cell_type": "code",
   "execution_count": null,
   "id": "1e17bb3b-ea01-4539-a924-b5c563ecff14",
   "metadata": {},
   "outputs": [],
   "source": [
    "fig, axs = plt.subplots(1, 2, figsize=(12, 6))\n",
    "\n",
    "\n",
    "standard_ponderee.plot(ax=axs[0], column='Cluster', legend=True, cmap='YlGnBu')\n",
    "axs[0].set_title('Carte démographie/épidémiologie')\n",
    "\n",
    "base_pollution.plot(ax=axs[1], column='Cluster', legend=True, cmap='YlGnBu')\n",
    "axs[1].set_title('Carte pollution')\n",
    "\n",
    "\n",
    "plt.tight_layout()\n",
    "\n",
    "\n",
    "plt.show()"
   ]
  },
  {
   "cell_type": "markdown",
   "id": "a20b8771-08ec-423c-aa9c-b1df226ed401",
   "metadata": {},
   "source": [
    "Le résultat est en demie teinte. \n",
    "En effet il y a des similarités pour certains départements entre ceux deux cartes comme la région parisienne, une partie du Nord certains départements de l'est, l'Isère et le département du Rhône qui sont 'connus' pour être pollués. \n",
    "Néanmoins, il faut remttre en perspective le fait que ce sont les départements les plus peuplés de France et que par conséquent il y aura plus de cas dans ces départements là que dans d'autres. Par ailleurs, pour éviter d'avoir trop de 'biais de variables omises' il faut aussi souligner que les composantes principales de la carte de démographie/épidémiolgie sont principalement issues de la composition démographique du département et que les cluster se sont principalement sur ces différences. \n",
    "Il serait donc difficile, à partir de ces données, de clairement attribuer une part non négligeable des maladies respiratoires et cancers (entre autres) à la pollution. "
   ]
  },
  {
   "cell_type": "code",
   "execution_count": null,
   "id": "4b6a30ff-6f87-47a0-843d-e53b28618fc3",
   "metadata": {},
   "outputs": [],
   "source": [
    "cluster_30_60 = pd.read_csv(\"df_cluster_30_60.csv\")"
   ]
  },
  {
   "cell_type": "code",
   "execution_count": null,
   "id": "c6c67116-2a93-4dc4-9d0f-1e49d91760a2",
   "metadata": {},
   "outputs": [],
   "source": [
    "cluster_30_60 = cluster_30_60.merge(france, how = 'left', left_on = 'dep', right_on = 'nom')"
   ]
  },
  {
   "cell_type": "code",
   "execution_count": null,
   "id": "1693531a-69cf-486c-b1b9-795aeb35754c",
   "metadata": {},
   "outputs": [],
   "source": [
    "cluster_30_60 = gpd.GeoDataFrame(cluster_30_60, geometry='geometry')"
   ]
  },
  {
   "cell_type": "code",
   "execution_count": null,
   "id": "e5889a6a-ef14-4dbe-b190-04aef972577d",
   "metadata": {},
   "outputs": [],
   "source": [
    "fig, ax = plt.subplots(figsize=(10, 10))\n",
    "cluster_30_60.plot(column='cluster', cmap='viridis', legend=True, ax=ax)\n",
    "ax.set_title('Carte des cas de maladies en fonction de la pollution chez les 30-60 ans')\n",
    "plt.show()"
   ]
  },
  {
   "cell_type": "code",
   "execution_count": null,
   "id": "3666ec79-d5ec-479a-bcbb-e2a545cbe745",
   "metadata": {},
   "outputs": [],
   "source": []
  }
 ],
 "metadata": {
  "kernelspec": {
   "display_name": "Python 3 (ipykernel)",
   "language": "python",
   "name": "python3"
  },
  "language_info": {
   "codemirror_mode": {
    "name": "ipython",
    "version": 3
   },
   "file_extension": ".py",
   "mimetype": "text/x-python",
   "name": "python",
   "nbconvert_exporter": "python",
   "pygments_lexer": "ipython3",
   "version": "3.10.13"
  }
 },
 "nbformat": 4,
 "nbformat_minor": 5
}
